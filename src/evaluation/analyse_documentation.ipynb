{
 "cells": [
  {
   "metadata": {
    "ExecuteTime": {
     "end_time": "2024-08-10T19:35:55.321855Z",
     "start_time": "2024-08-10T19:35:55.317332Z"
    }
   },
   "cell_type": "code",
   "source": [
    "import re\n",
    "from textstat import *\n",
    "import os\n",
    "\n",
    "print(os.getcwd())"
   ],
   "id": "5ebf20513c505e3a",
   "outputs": [
    {
     "name": "stdout",
     "output_type": "stream",
     "text": [
      "/data/Documents/DataScience/Courses/Dissertation/src/evaluation\n"
     ]
    }
   ],
   "execution_count": 21
  },
  {
   "metadata": {},
   "cell_type": "markdown",
   "source": "## Analyse Documentation\n",
   "id": "8ae041b4b01ee7f9"
  },
  {
   "metadata": {
    "ExecuteTime": {
     "end_time": "2024-08-10T19:35:55.398822Z",
     "start_time": "2024-08-10T19:35:55.394147Z"
    }
   },
   "cell_type": "code",
   "source": [
    "def analyze_docs_content(content):\n",
    "    def clean_rst_content(content):\n",
    "        content = re.sub(r'::[\\s\\S]*?\\n\\n', '', content) # code blocks\n",
    "        content = re.sub(r'.. [a-z]+::.*?\\n', '', content) # rst commands\n",
    "        content = re.sub(r':[a-z]+:`.*?`', '', content) # inline\n",
    "        content = re.sub(r'`[^`\\n]+`_', '', content) # links\n",
    "        return content\n",
    "    cleaned_content = clean_rst_content(content)\n",
    "    return {\n",
    "        'flesch_reading_ease': textstat.flesch_reading_ease(cleaned_content),\n",
    "        'flesch_kincaid_grade': textstat.flesch_kincaid_grade(cleaned_content),\n",
    "        'smog_index': textstat.smog_index(cleaned_content),\n",
    "        'coleman_liau_index': textstat.coleman_liau_index(cleaned_content),\n",
    "        'automated_readability_index': textstat.automated_readability_index(cleaned_content),\n",
    "        'difficult_words': textstat.difficult_words(cleaned_content),\n",
    "        #'text_standard': textstat.text_standard(cleaned_content)\n",
    "    }"
   ],
   "id": "2d553a200093ee3d",
   "outputs": [],
   "execution_count": 22
  },
  {
   "metadata": {
    "ExecuteTime": {
     "end_time": "2024-08-10T19:35:55.414255Z",
     "start_time": "2024-08-10T19:35:55.408896Z"
    }
   },
   "cell_type": "code",
   "source": [
    "def analyze_sphinx_docs(docs_source_dir):\n",
    "    results = {}\n",
    "    for root, dirs, files in os.walk(docs_source_dir):\n",
    "        for file in files:\n",
    "            if file.endswith('.rst'):\n",
    "                file_path = os.path.join(root, file)\n",
    "                with open(file_path, 'r', encoding='utf-8') as f:\n",
    "                    content = f.read()\n",
    "                results[file_path] = analyze_docs_content(content)\n",
    "    return results"
   ],
   "id": "236112c47a52c770",
   "outputs": [],
   "execution_count": 23
  },
  {
   "metadata": {
    "ExecuteTime": {
     "end_time": "2024-08-10T19:35:55.430555Z",
     "start_time": "2024-08-10T19:35:55.427856Z"
    }
   },
   "cell_type": "code",
   "source": [
    "def print_results(results):\n",
    "    for file_path, metrics in results.items():\n",
    "        print(f\"\\nAnalysis for {file_path}:\")\n",
    "        for metric, value in metrics.items():\n",
    "            print(f\"  {metric}: {value}\")"
   ],
   "id": "7b7ad71875f62178",
   "outputs": [],
   "execution_count": 24
  },
  {
   "metadata": {
    "ExecuteTime": {
     "end_time": "2024-08-10T19:35:55.444664Z",
     "start_time": "2024-08-10T19:35:55.433404Z"
    }
   },
   "cell_type": "code",
   "source": [
    "docs_source_dir = '../../docs/source'\n",
    "results = analyze_sphinx_docs(docs_source_dir)\n",
    "print_results(results)"
   ],
   "id": "adc1f3c8765b75c9",
   "outputs": [
    {
     "name": "stdout",
     "output_type": "stream",
     "text": [
      "\n",
      "Analysis for ../../docs/source/api_reference.rst:\n",
      "  flesch_reading_ease: -46.13\n",
      "  flesch_kincaid_grade: 21.6\n",
      "  smog_index: 0.0\n",
      "  coleman_liau_index: 35.63\n",
      "  automated_readability_index: 32.2\n",
      "  difficult_words: 11\n",
      "\n",
      "Analysis for ../../docs/source/candidate_generator.rst:\n",
      "  flesch_reading_ease: -233.77\n",
      "  flesch_kincaid_grade: 48.1\n",
      "  smog_index: 0.0\n",
      "  coleman_liau_index: 70.5\n",
      "  automated_readability_index: 110.8\n",
      "  difficult_words: 12\n",
      "\n",
      "Analysis for ../../docs/source/config_manager.rst:\n",
      "  flesch_reading_ease: -121.76\n",
      "  flesch_kincaid_grade: 32.0\n",
      "  smog_index: 0.0\n",
      "  coleman_liau_index: 53.37\n",
      "  automated_readability_index: 83.7\n",
      "  difficult_words: 10\n",
      "\n",
      "Analysis for ../../docs/source/index.rst:\n",
      "  flesch_reading_ease: 13.91\n",
      "  flesch_kincaid_grade: 13.0\n",
      "  smog_index: 10.5\n",
      "  coleman_liau_index: 24.13\n",
      "  automated_readability_index: 33.7\n",
      "  difficult_words: 12\n",
      "\n",
      "Analysis for ../../docs/source/installation.rst:\n",
      "  flesch_reading_ease: 48.16\n",
      "  flesch_kincaid_grade: 8.1\n",
      "  smog_index: 9.4\n",
      "  coleman_liau_index: 15.13\n",
      "  automated_readability_index: 15.7\n",
      "  difficult_words: 20\n",
      "\n",
      "Analysis for ../../docs/source/introduction.rst:\n",
      "  flesch_reading_ease: 7.56\n",
      "  flesch_kincaid_grade: 17.5\n",
      "  smog_index: 18.0\n",
      "  coleman_liau_index: 23.09\n",
      "  automated_readability_index: 27.2\n",
      "  difficult_words: 36\n",
      "\n",
      "Analysis for ../../docs/source/quickstart.rst:\n",
      "  flesch_reading_ease: 42.38\n",
      "  flesch_kincaid_grade: 10.3\n",
      "  smog_index: 12.3\n",
      "  coleman_liau_index: 15.53\n",
      "  automated_readability_index: 18.1\n",
      "  difficult_words: 60\n",
      "\n",
      "Analysis for ../../docs/source/synthesis_problem.rst:\n",
      "  flesch_reading_ease: -6.36\n",
      "  flesch_kincaid_grade: 16.6\n",
      "  smog_index: 13.1\n",
      "  coleman_liau_index: 30.83\n",
      "  automated_readability_index: 32.1\n",
      "  difficult_words: 47\n",
      "\n",
      "Analysis for ../../docs/source/synthesis_strategy.rst:\n",
      "  flesch_reading_ease: -172.52\n",
      "  flesch_kincaid_grade: 39.1\n",
      "  smog_index: 0.0\n",
      "  coleman_liau_index: 64.56\n",
      "  automated_readability_index: 102.2\n",
      "  difficult_words: 9\n"
     ]
    }
   ],
   "execution_count": 25
  },
  {
   "metadata": {
    "ExecuteTime": {
     "end_time": "2024-08-10T19:35:56.910057Z",
     "start_time": "2024-08-10T19:35:56.907684Z"
    }
   },
   "cell_type": "code",
   "source": [
    "avg_scores = {metric: sum(doc[metric] for doc in results.values()) / len(results)\n",
    "              for metric in next(iter(results.values()))}\n",
    "\n",
    "print(\"\\nAverage scores across all documents:\")\n",
    "for metric, value in avg_scores.items():\n",
    "    print(f\"  {metric}: {value:.2f}\")\n"
   ],
   "id": "c1d059676e9fd518",
   "outputs": [
    {
     "name": "stdout",
     "output_type": "stream",
     "text": [
      "\n",
      "Average scores across all documents:\n",
      "  flesch_reading_ease: -52.06\n",
      "  flesch_kincaid_grade: 22.92\n",
      "  smog_index: 7.03\n",
      "  coleman_liau_index: 36.97\n",
      "  automated_readability_index: 50.63\n",
      "  difficult_words: 24.11\n"
     ]
    }
   ],
   "execution_count": 26
  },
  {
   "metadata": {},
   "cell_type": "code",
   "outputs": [],
   "execution_count": null,
   "source": "",
   "id": "e951e8a716b6f832"
  }
 ],
 "metadata": {
  "kernelspec": {
   "display_name": "Python (pysynthlab)",
   "language": "python",
   "name": "pysynthlab"
  },
  "language_info": {
   "codemirror_mode": {
    "name": "ipython",
    "version": 2
   },
   "file_extension": ".py",
   "mimetype": "text/x-python",
   "name": "python",
   "nbconvert_exporter": "python",
   "pygments_lexer": "ipython2",
   "version": "2.7.6"
  }
 },
 "nbformat": 4,
 "nbformat_minor": 5
}
