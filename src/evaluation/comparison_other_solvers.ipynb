{
 "cells": [
  {
   "cell_type": "code",
   "execution_count": 1,
   "id": "1e6de85f-ff0e-4f82-bd25-00d684677ae3",
   "metadata": {},
   "outputs": [],
   "source": [
    "import pandas as pd\n",
    "import matplotlib.pyplot as plt\n",
    "import seaborn as sns"
   ]
  },
  {
   "cell_type": "code",
   "execution_count": null,
   "id": "8758bfbe-de2a-4eb6-adce-a5b9ae6555f9",
   "metadata": {},
   "outputs": [],
   "source": [
    "df_cvc5 = pd.read_csv('../benchmark/sygus_solver_cvc5_results_new.csv')\n",
    "df_cvc5['config'] = (df_cvc5['config']\n",
    "                .str.replace('--tlimit=30000', '')\n",
    "                .str.replace('--sygus-enum=', '')\n",
    "                .str.replace('--sygus-si=', '_single_invocation_')\n",
    "                .str.replace('--', '_')\n",
    "                .str.replace('-', '_')\n",
    "                .str.replace('=', '_')\n",
    "                .str.replace(' ', '')\n",
    "                )\n",
    "df_cvc5['file'] = df_cvc5['file'].str.replace('/data/Documents/DataScience/Courses/Dissertation/problems/sygus_comp_2019_clia_track/', '').str.replace('.sl','').str.strip()\n",
    "\n",
    "\n",
    "df_pysynthlab = pd.read_csv('../benchmark/sygus_solver_pysynthlab_results_new.csv')\n",
    "df_pysynthlab['run_datetime'] = pd.to_datetime(df_pysynthlab['run_datetime'])\n",
    "df_pysynthlab['solver'] = 'PySynthLab'\n",
    "df_pysynthlab['config'] = df_pysynthlab['config'].str.split('/').str[-1].str.replace('.yaml', '').str.replace('benchmark_','')\n",
    "df_pysynthlab['file'] = df_pysynthlab['file'].str.split('/').str[-1].str.replace('.sl', '')\n",
    "\n",
    "\n",
    "competition_df = pd.read_csv('../competition_results.csv')"
   ]
  },
  {
   "cell_type": "code",
   "execution_count": null,
   "id": "a4132316-d440-4f55-a739-7dd73992cffd",
   "metadata": {},
   "outputs": [],
   "source": []
  },
  {
   "cell_type": "code",
   "execution_count": null,
   "id": "2d288339-692e-42dd-9029-2d0562ffc06c",
   "metadata": {},
   "outputs": [],
   "source": []
  },
  {
   "cell_type": "code",
   "execution_count": null,
   "id": "ef1ed18e-dc91-485e-8568-48e037fcc9c2",
   "metadata": {},
   "outputs": [],
   "source": []
  },
  {
   "cell_type": "code",
   "execution_count": null,
   "id": "6cd6a3e1-7dc0-4a5f-91fe-a88af1999ad5",
   "metadata": {},
   "outputs": [],
   "source": []
  },
  {
   "cell_type": "code",
   "execution_count": null,
   "id": "c53168b6-b892-4c8e-b34e-028a99840963",
   "metadata": {},
   "outputs": [],
   "source": []
  }
 ],
 "metadata": {
  "kernelspec": {
   "display_name": "Python (pysynthlab)",
   "language": "python",
   "name": "pysynthlab"
  },
  "language_info": {
   "codemirror_mode": {
    "name": "ipython",
    "version": 3
   },
   "file_extension": ".py",
   "mimetype": "text/x-python",
   "name": "python",
   "nbconvert_exporter": "python",
   "pygments_lexer": "ipython3",
   "version": "3.12.4"
  }
 },
 "nbformat": 4,
 "nbformat_minor": 5
}
