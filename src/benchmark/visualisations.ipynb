{
 "cells": [
  {
   "metadata": {
    "ExecuteTime": {
     "end_time": "2024-08-06T10:41:02.854085Z",
     "start_time": "2024-08-06T10:41:02.848264Z"
    }
   },
   "cell_type": "code",
   "source": [
    "import pandas as pd\n",
    "import matplotlib.pyplot as plt\n",
    "import seaborn as sns"
   ],
   "id": "5ebf20513c505e3a",
   "outputs": [
    {
     "ename": "ModuleNotFoundError",
     "evalue": "No module named 'pandas'",
     "output_type": "error",
     "traceback": [
      "\u001B[0;31m---------------------------------------------------------------------------\u001B[0m",
      "\u001B[0;31mModuleNotFoundError\u001B[0m                       Traceback (most recent call last)",
      "Cell \u001B[0;32mIn[2], line 1\u001B[0m\n\u001B[0;32m----> 1\u001B[0m \u001B[38;5;28;01mimport\u001B[39;00m \u001B[38;5;21;01mpandas\u001B[39;00m \u001B[38;5;28;01mas\u001B[39;00m \u001B[38;5;21;01mpd\u001B[39;00m\n\u001B[1;32m      2\u001B[0m \u001B[38;5;28;01mimport\u001B[39;00m \u001B[38;5;21;01mmatplotlib\u001B[39;00m\u001B[38;5;21;01m.\u001B[39;00m\u001B[38;5;21;01mpyplot\u001B[39;00m \u001B[38;5;28;01mas\u001B[39;00m \u001B[38;5;21;01mplt\u001B[39;00m\n\u001B[1;32m      3\u001B[0m \u001B[38;5;28;01mimport\u001B[39;00m \u001B[38;5;21;01mseaborn\u001B[39;00m \u001B[38;5;28;01mas\u001B[39;00m \u001B[38;5;21;01msns\u001B[39;00m\n",
      "\u001B[0;31mModuleNotFoundError\u001B[0m: No module named 'pandas'"
     ]
    }
   ],
   "execution_count": 2
  },
  {
   "metadata": {},
   "cell_type": "markdown",
   "source": "## CVC5 Results",
   "id": "8ae041b4b01ee7f9"
  },
  {
   "metadata": {},
   "cell_type": "code",
   "outputs": [],
   "execution_count": null,
   "source": [
    "df = pd.read_csv('../../src/benchmark/data.csv')\n",
    "print(df.info())\n",
    "print(df.head())"
   ],
   "id": "d9556704619de048"
  },
  {
   "metadata": {},
   "cell_type": "code",
   "outputs": [],
   "execution_count": null,
   "source": [
    "config_counts = df['config'].value_counts()\n",
    "print(\"Configuration counts:\")\n",
    "print(config_counts)"
   ],
   "id": "fb829f7456a11b96"
  },
  {
   "metadata": {},
   "cell_type": "code",
   "outputs": [],
   "execution_count": null,
   "source": [
    "avg_times = df.groupby('config')['time'].mean().sort_values(ascending=False)\n",
    "print(\"\\nAverage execution times:\")\n",
    "print(avg_times)"
   ],
   "id": "4f8d7d33e5a517b5"
  },
  {
   "metadata": {},
   "cell_type": "code",
   "outputs": [],
   "execution_count": null,
   "source": [
    "plt.figure(figsize=(12, 6))\n",
    "sns.barplot(x=avg_times.index, y=avg_times.values)\n",
    "plt.title('Average Execution Time by Configuration')\n",
    "plt.xlabel('Configuration')\n",
    "plt.ylabel('Average Time (seconds)')\n",
    "plt.xticks(rotation=45, ha='right')\n",
    "plt.tight_layout()\n",
    "plt.show()"
   ],
   "id": "d8a2c5dd8e07bbc4"
  },
  {
   "metadata": {},
   "cell_type": "code",
   "outputs": [],
   "execution_count": null,
   "source": [
    "plt.figure(figsize=(12, 6))\n",
    "sns.boxplot(x='config', y='time', data=df)\n",
    "plt.title('Distribution of Execution Times by Configuration')\n",
    "plt.xlabel('Configuration')\n",
    "plt.ylabel('Time (seconds)')\n",
    "plt.xticks(rotation=45, ha='right')\n",
    "plt.tight_layout()\n",
    "plt.show()"
   ],
   "id": "f4780744c4ff064e"
  },
  {
   "metadata": {},
   "cell_type": "code",
   "outputs": [],
   "execution_count": null,
   "source": [
    "return_code_counts = df['return_code'].value_counts()\n",
    "print(\"\\nReturn code counts:\")\n",
    "print(return_code_counts)\n",
    "\n",
    "plt.figure(figsize=(8, 6))\n",
    "return_code_counts.plot(kind='pie', autopct='%1.1f%%')\n",
    "plt.title('Distribution of Return Codes')\n",
    "plt.ylabel('')\n",
    "plt.show()"
   ],
   "id": "d9bf65ff7d2ea4d9"
  },
  {
   "metadata": {},
   "cell_type": "markdown",
   "source": "## Partial PySynthLab Scoring Analysis",
   "id": "4b150d45da246f02"
  },
  {
   "metadata": {},
   "cell_type": "code",
   "outputs": [],
   "execution_count": null,
   "source": [
    "# import matplotlib.pyplot as plt\n",
    "# import pandas as pd\n",
    "# import numpy as np\n",
    "# \n",
    "# def analyze_results(results):\n",
    "#     df = pd.DataFrame(results)\n",
    "# \n",
    "#     plt.figure(figsize=(10, 6))\n",
    "#     plt.scatter(df[df['success']]['metrics'].apply(lambda x: x['time_spent']),\n",
    "#                 df[df['success']]['metrics'].apply(lambda x: x['solution_complexity']),\n",
    "#                 c=df[df['success']]['metrics'].apply(lambda x: x['solution_height']),\n",
    "#                 cmap='viridis')\n",
    "#     plt.colorbar(label='Solution Height')\n",
    "#     plt.xlabel('Time Spent (s)')\n",
    "#     plt.ylabel('Solution Complexity')\n",
    "#     plt.title('Time Spent vs. Solution Complexity')\n",
    "#     plt.show()\n",
    "# \n",
    "# \n",
    "#     plt.figure(figsize=(10, 6))\n",
    "#     for i, result in enumerate(results):\n",
    "#         if result['success']:\n",
    "#             plt.plot(result['metrics']['partial_satisfaction_scores'], label=f\"Config {i}\")\n",
    "#     plt.xlabel('Iterations')\n",
    "#     plt.ylabel('Partial Satisfaction Score')\n",
    "#     plt.title('Partial Satisfaction Score Progression')\n",
    "#     plt.legend()\n",
    "#     plt.show()\n",
    "# \n",
    "# \n",
    "#     print(df.groupby('config').agg({\n",
    "#         'success': 'mean',\n",
    "#         'metrics': lambda x: pd.Series({\n",
    "#             'avg_time': np.mean([m['time_spent'] for m in x]),\n",
    "#             'avg_iterations': np.mean([m['iterations'] for m in x]),\n",
    "#             'avg_candidates': np.mean([m['candidates_generated'] for m in x]),\n",
    "#         })\n",
    "#     }))\n"
   ],
   "id": "97dee74c77c130c8"
  }
 ],
 "metadata": {
  "kernelspec": {
   "display_name": "Python 3",
   "language": "python",
   "name": "python3"
  },
  "language_info": {
   "codemirror_mode": {
    "name": "ipython",
    "version": 2
   },
   "file_extension": ".py",
   "mimetype": "text/x-python",
   "name": "python",
   "nbconvert_exporter": "python",
   "pygments_lexer": "ipython2",
   "version": "2.7.6"
  }
 },
 "nbformat": 4,
 "nbformat_minor": 5
}
